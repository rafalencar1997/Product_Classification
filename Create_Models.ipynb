{
 "cells": [
  {
   "cell_type": "markdown",
   "metadata": {},
   "source": [
    "# Setup"
   ]
  },
  {
   "cell_type": "code",
   "execution_count": 1,
   "metadata": {},
   "outputs": [
    {
     "name": "stderr",
     "output_type": "stream",
     "text": [
      "Using TensorFlow backend.\n"
     ]
    }
   ],
   "source": [
    "import numpy as np\n",
    "from numpy import random\n",
    "import re\n",
    "import pickle\n",
    "import matplotlib\n",
    "import matplotlib.pyplot as plt\n",
    "import pandas as pd\n",
    "import tensorflow as tf\n",
    "import keras\n",
    "\n",
    "from gensim.models import Word2Vec\n",
    "\n",
    "%matplotlib inline\n",
    "matplotlib.style.use('ggplot')"
   ]
  },
  {
   "cell_type": "code",
   "execution_count": 2,
   "metadata": {},
   "outputs": [],
   "source": [
    "from keras import losses, models, optimizers, initializers, regularizers\n",
    "\n",
    "from keras.models import Sequential, Model, model_from_json\n",
    "\n",
    "from keras.preprocessing.text import Tokenizer\n",
    "\n",
    "from keras.layers import (Layer, Input, Flatten, Dropout, BatchNormalization, Reshape, Embedding,\n",
    "                          MaxPool1D, AveragePooling1D, GlobalAveragePooling1D,\n",
    "                          Conv1D, SeparableConv1D, Dense, LeakyReLU, ReLU, Activation,\n",
    "                          LSTM, SimpleRNNCell, Bidirectional)"
   ]
  },
  {
   "cell_type": "markdown",
   "metadata": {},
   "source": [
    "# Dataset Load"
   ]
  },
  {
   "cell_type": "code",
   "execution_count": 3,
   "metadata": {},
   "outputs": [],
   "source": [
    "PATH_GLOVE   = 'GloVe-1.2/'\n",
    "DATASET = 'amazon'\n",
    "\n",
    "PATH_DATASET = '/Users/rafalencar/Documents/Datasets/Products_Catalog/'"
   ]
  },
  {
   "cell_type": "code",
   "execution_count": 4,
   "metadata": {},
   "outputs": [
    {
     "name": "stdout",
     "output_type": "stream",
     "text": [
      "Dataset Shape:  (9310, 5)\n"
     ]
    }
   ],
   "source": [
    "dataset = pd.read_csv(PATH_DATASET + 'amazon_co-ecommerce_sample_Dataset.csv')\n",
    "dataset = dataset.replace(np.nan, '', regex=True)\n",
    "print('Dataset Shape: ', dataset.shape)"
   ]
  },
  {
   "cell_type": "code",
   "execution_count": 5,
   "metadata": {},
   "outputs": [
    {
     "name": "stdout",
     "output_type": "stream",
     "text": [
      "Total Labels :  255\n"
     ]
    }
   ],
   "source": [
    "CATEGORY = \"amazon_category_and_sub_category\"\n",
    "labels = dataset[CATEGORY].unique()\n",
    "LABELS = labels.shape[0]\n",
    "print(\"Total Labels : \", labels.shape[0])"
   ]
  },
  {
   "cell_type": "markdown",
   "metadata": {},
   "source": [
    "# Embedding"
   ]
  },
  {
   "cell_type": "markdown",
   "metadata": {},
   "source": [
    "### Paths and Consts"
   ]
  },
  {
   "cell_type": "code",
   "execution_count": 6,
   "metadata": {},
   "outputs": [],
   "source": [
    "X_used = 'product_description'\n",
    "X_data = dataset[X_used]\n",
    "\n",
    "X_size = []\n",
    "for item in X_data:\n",
    "        split = item.split()\n",
    "        X_size.append(len(split))  \n",
    "\n",
    "SW_RATIO            = dataset.shape[0]/np.mean(X_size)\n",
    "EMBEDDING_TRAINABLE = (SW_RATIO < 15000)\n",
    "MAX_SEQUENCE_LENGTH = int(1.5*max(X_size))"
   ]
  },
  {
   "cell_type": "code",
   "execution_count": 7,
   "metadata": {},
   "outputs": [],
   "source": [
    "EMBEDDING_DIM = 100\n",
    "\n",
    "PATH_DATA_MODELS = 'data_models/'\n",
    "PATH_GLOVE       = 'GloVe-1.2/'\n",
    "\n",
    "FILE_WORD2VEC      = PATH_DATA_MODELS + DATASET + '_' + X_used + '_word2vec_s' + str(EMBEDDING_DIM) + '.model'\n",
    "FILE_TOKENIZER     = PATH_DATA_MODELS + DATASET + '_' + X_used + '_tokenizer.sav'\n",
    "FILE_LABEL_ENCODER = PATH_DATA_MODELS + DATASET +'_label_encoder.sav'\n",
    "\n",
    "FILE_GEN_GLOVE          = PATH_GLOVE + DATASET + '_genglove_s' + str(EMBEDDING_DIM) + '.txt'"
   ]
  },
  {
   "cell_type": "markdown",
   "metadata": {},
   "source": [
    "### Tokenizer"
   ]
  },
  {
   "cell_type": "code",
   "execution_count": 8,
   "metadata": {},
   "outputs": [],
   "source": [
    "tokenizer = pickle.load(open(FILE_TOKENIZER, 'rb'))\n",
    "word_index = tokenizer.word_index"
   ]
  },
  {
   "cell_type": "markdown",
   "metadata": {},
   "source": [
    "### Word Vectorizer"
   ]
  },
  {
   "cell_type": "code",
   "execution_count": 9,
   "metadata": {},
   "outputs": [],
   "source": [
    "def set_embedding_index(file_Name):\n",
    "    embeddings_index = {}\n",
    "    if file_Name.find(\".model\") == -1:\n",
    "        f = open(file_Name, encoding='utf8')\n",
    "        for line in f:\n",
    "            values = line.split(' ')\n",
    "            word = values[0]\n",
    "            coefs = np.asarray(values[1:], dtype='float32')\n",
    "            embeddings_index[word] = coefs\n",
    "        f.close()\n",
    "    else:\n",
    "        word2vec = Word2Vec.load(file_Name)\n",
    "        words = list(word2vec.wv.vocab)\n",
    "        for word in words:\n",
    "            embeddings_index[word] = word2vec[word]\n",
    "    return embeddings_index \n",
    "\n",
    "def set_embedding_weights(word_index, embeddings_index, embedding_dim):\n",
    "    \n",
    "    embedding_matrix = np.random.random((len(word_index) + 1, embedding_dim))\n",
    "    for word, i in word_index.items():\n",
    "        embedding_vector = embeddings_index.get(word)\n",
    "        if embedding_vector is not None:\n",
    "            # words not found in embedding index will be all-zeros.\n",
    "            embedding_matrix[i] = embedding_vector\n",
    "    return embedding_matrix"
   ]
  },
  {
   "cell_type": "markdown",
   "metadata": {},
   "source": [
    "### Embedding Layer"
   ]
  },
  {
   "cell_type": "code",
   "execution_count": 10,
   "metadata": {},
   "outputs": [
    {
     "name": "stderr",
     "output_type": "stream",
     "text": [
      "/anaconda2/envs/CnnEnv/lib/python3.6/site-packages/ipykernel_launcher.py:15: DeprecationWarning: Call to deprecated `__getitem__` (Method will be removed in 4.0.0, use self.wv.__getitem__() instead).\n",
      "  from ipykernel import kernelapp as app\n"
     ]
    }
   ],
   "source": [
    "FILE_EMBEDDING = FILE_WORD2VEC\n",
    "\n",
    "embedding_index = set_embedding_index(FILE_EMBEDDING)\n",
    "\n",
    "embedding_matrix = set_embedding_weights(word_index, embedding_index, EMBEDDING_DIM)\n",
    "\n",
    "embedding_layer = Embedding(input_dim    = len(word_index) + 1,\n",
    "                            output_dim   = EMBEDDING_DIM, \n",
    "                            weights      = [embedding_matrix],\n",
    "                            input_length = MAX_SEQUENCE_LENGTH, \n",
    "                            trainable    = True)"
   ]
  },
  {
   "cell_type": "code",
   "execution_count": 11,
   "metadata": {},
   "outputs": [
    {
     "name": "stdout",
     "output_type": "stream",
     "text": [
      "Embedding Used: _product_description_word2vec_s100\n"
     ]
    }
   ],
   "source": [
    "FILE_EMBEDDING = re.sub(PATH_DATA_MODELS,'', FILE_EMBEDDING)\n",
    "FILE_EMBEDDING = re.sub(DATASET,'', FILE_EMBEDDING)\n",
    "FILE_EMBEDDING = re.sub(\"^(.*[\\\\\\/])\",'', FILE_EMBEDDING)\n",
    "FILE_EMBEDDING = re.sub('.txt','', FILE_EMBEDDING)\n",
    "FILE_EMBEDDING = re.sub('.model','', FILE_EMBEDDING)\n",
    "\n",
    "print('Embedding Used:', FILE_EMBEDDING)"
   ]
  },
  {
   "cell_type": "markdown",
   "metadata": {},
   "source": [
    "# CNN"
   ]
  },
  {
   "cell_type": "markdown",
   "metadata": {},
   "source": [
    "### Jatana CNN"
   ]
  },
  {
   "cell_type": "markdown",
   "metadata": {},
   "source": [
    "This model was based on the models used in this [article](https://medium.com/jatana/report-on-text-classification-using-cnn-rnn-han-f0e887214d5f). Here you can find the [GitHub Repository](https://github.com/jatana-research/Text-Classification/blob/master/CNN.ipynb) for this model implementation"
   ]
  },
  {
   "cell_type": "code",
   "execution_count": 12,
   "metadata": {},
   "outputs": [],
   "source": [
    "use_jatana_cnn = False\n",
    "if use_jatana_cnn:\n",
    "    input_layer = Input(shape=(MAX_SEQUENCE_LENGTH,), dtype='int32')\n",
    "    x = embedding_layer(input_layer)\n",
    "    x = Conv1D(128, 5, padding='same', activation='relu')(x)\n",
    "    x = MaxPool1D(3)(x)\n",
    "    x = Conv1D(128, 5, padding='same', activation='relu')(x)\n",
    "    x = MaxPool1D(3)(x)\n",
    "    x = Conv1D(128, 5, padding='same', activation='relu')(x)\n",
    "    x = MaxPool1D(3)(x)\n",
    "    x = Flatten()(x)\n",
    "    x = Dense(256, activation='relu')(x)\n",
    "    output_layer = Dense(LABELS, activation='softmax')(x)\n",
    "\n",
    "    model = Model(input_layer, output_layer)\n",
    "    model.name = 'cnn_jatana_' + FILE_EMBEDDING\n",
    "    model.summary()"
   ]
  },
  {
   "cell_type": "markdown",
   "metadata": {},
   "source": [
    "### SepCNN"
   ]
  },
  {
   "cell_type": "code",
   "execution_count": 13,
   "metadata": {},
   "outputs": [
    {
     "name": "stdout",
     "output_type": "stream",
     "text": [
      "_________________________________________________________________\n",
      "Layer (type)                 Output Shape              Param #   \n",
      "=================================================================\n",
      "input_1 (InputLayer)         (None, 9246)              0         \n",
      "_________________________________________________________________\n",
      "embedding_1 (Embedding)      (None, 9246, 100)         3203700   \n",
      "_________________________________________________________________\n",
      "separable_conv1d_1 (Separabl (None, 9246, 64)          6964      \n",
      "_________________________________________________________________\n",
      "separable_conv1d_2 (Separabl (None, 9246, 64)          4480      \n",
      "_________________________________________________________________\n",
      "global_average_pooling1d_1 ( (None, 64)                0         \n",
      "_________________________________________________________________\n",
      "dropout_1 (Dropout)          (None, 64)                0         \n",
      "_________________________________________________________________\n",
      "dense_1 (Dense)              (None, 255)               16575     \n",
      "=================================================================\n",
      "Total params: 3,231,719\n",
      "Trainable params: 3,231,719\n",
      "Non-trainable params: 0\n",
      "_________________________________________________________________\n"
     ]
    }
   ],
   "source": [
    "use_sepcnn = True\n",
    "if use_sepcnn: \n",
    "    \n",
    "    # Hyper Parameters\n",
    "    blocks       = 1\n",
    "    filters      = 32\n",
    "    kernel_size  = 5\n",
    "    dropout_rate = 0.2\n",
    "    pool_size    = 3\n",
    "    \n",
    "    input_layer = Input(shape=(MAX_SEQUENCE_LENGTH,), dtype='int32')\n",
    "    x = embedding_layer(input_layer)\n",
    "\n",
    "    for _ in range(blocks-1):\n",
    "        x = Dropout(rate=dropout_rate)(x)   \n",
    "        x = SeparableConv1D(filters=filters, kernel_size=kernel_size, activation='relu',\n",
    "                            bias_initializer='random_uniform', depthwise_initializer='random_uniform',\n",
    "                            padding='same')(x)\n",
    "        x = SeparableConv1D(filters=filters, kernel_size=kernel_size, activation='relu',\n",
    "                            bias_initializer='random_uniform', depthwise_initializer='random_uniform',\n",
    "                            padding='same')(x) \n",
    "        x = MaxPool1D(pool_size=pool_size)(x) \n",
    "\n",
    "    x = SeparableConv1D(filters=filters * 2, kernel_size=kernel_size, activation='relu',\n",
    "                        bias_initializer='random_uniform', depthwise_initializer='random_uniform',\n",
    "                        padding='same')(x) \n",
    "    x = SeparableConv1D(filters=filters * 2, kernel_size=kernel_size, activation='relu',\n",
    "                        bias_initializer='random_uniform', depthwise_initializer='random_uniform',\n",
    "                        padding='same')(x) \n",
    "    x = GlobalAveragePooling1D()(x) \n",
    "    x = Dropout(rate=dropout_rate)(x) \n",
    "\n",
    "    output_layer = Dense(LABELS, activation='softmax')(x)\n",
    "\n",
    "    model = Model(input_layer, output_layer)\n",
    "    model.name = 'sepcnn_' + FILE_EMBEDDING\n",
    "    model.summary()"
   ]
  },
  {
   "cell_type": "markdown",
   "metadata": {},
   "source": [
    "# RNN"
   ]
  },
  {
   "cell_type": "markdown",
   "metadata": {},
   "source": [
    "### Jatana LSTM "
   ]
  },
  {
   "cell_type": "markdown",
   "metadata": {},
   "source": [
    "This model was based on the models used in this [article](https://medium.com/jatana/report-on-text-classification-using-cnn-rnn-han-f0e887214d5f). Here you can find the [GitHub Repository](https://github.com/jatana-research/Text-Classification/blob/master/RNN.ipynb) for this model implementation"
   ]
  },
  {
   "cell_type": "code",
   "execution_count": 14,
   "metadata": {},
   "outputs": [],
   "source": [
    "use_jatana_lstm = False\n",
    "if use_jatana_lstm:\n",
    "    input_layer = Input(shape=(MAX_SEQUENCE_LENGTH,), dtype='int32')\n",
    "    x = embedding_layer(input_layer)\n",
    "    x = Bidirectional(LSTM(100))(x)\n",
    "    output_layer = Dense(LABELS, activation='softmax')(x)\n",
    "\n",
    "    model = Model(input_layer, output_layer)\n",
    "    model.name = 'lstm_jatana_' + FILE_EMBEDDING\n",
    "    model.summary()"
   ]
  },
  {
   "cell_type": "markdown",
   "metadata": {},
   "source": [
    "### Kaggle Simple LSTM"
   ]
  },
  {
   "cell_type": "code",
   "execution_count": null,
   "metadata": {},
   "outputs": [],
   "source": [
    "use_kaggle_lstm = True\n",
    "if use_kaggle_lstm:    \n",
    "    input_layer = Input(shape=(MAX_SEQUENCE_LENGTH,), dtype='int32')\n",
    "    x = embedding_layer(input_layer)\n",
    "    x = LSTM(64)(x)\n",
    "    x = Dense(256,name='FC1')(x)\n",
    "    x = Activation('relu')(x)\n",
    "    x = Dropout(0.5)(x)\n",
    "    output_layer = Dense(LABELS, activation='softmax')(x)\n",
    "\n",
    "    model = Model(inputs=inputs,outputs=output_layer)\n",
    "    model.name = 'lstm_kaggle_' + FILE_EMBEDDING\n",
    "    model.summary"
   ]
  },
  {
   "cell_type": "markdown",
   "metadata": {},
   "source": [
    "# Save Model Architecture"
   ]
  },
  {
   "cell_type": "code",
   "execution_count": 15,
   "metadata": {},
   "outputs": [],
   "source": [
    "PATH_MODELS        = 'not_trained_models/'\n",
    "\n",
    "FILE_MODEL         = PATH_MODELS + DATASET + '_model_'+  model.name + '.json'\n",
    "FILE_MODEL_WEIGHTS = PATH_MODELS + DATASET + '_model_'+  model.name + '.h5'"
   ]
  },
  {
   "cell_type": "code",
   "execution_count": 16,
   "metadata": {},
   "outputs": [],
   "source": [
    "model_json = model.to_json()\n",
    "json_file  = open(FILE_MODEL, \"w\") \n",
    "json_file.write(model_json)\n",
    "json_file.close()\n",
    "model.save_weights(FILE_MODEL_WEIGHTS)"
   ]
  },
  {
   "cell_type": "code",
   "execution_count": null,
   "metadata": {},
   "outputs": [],
   "source": []
  }
 ],
 "metadata": {
  "kernelspec": {
   "display_name": "Python 3",
   "language": "python",
   "name": "python3"
  },
  "language_info": {
   "codemirror_mode": {
    "name": "ipython",
    "version": 3
   },
   "file_extension": ".py",
   "mimetype": "text/x-python",
   "name": "python",
   "nbconvert_exporter": "python",
   "pygments_lexer": "ipython3",
   "version": "3.6.8"
  }
 },
 "nbformat": 4,
 "nbformat_minor": 2
}
