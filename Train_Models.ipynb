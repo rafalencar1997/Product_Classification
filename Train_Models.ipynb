{
 "cells": [
  {
   "cell_type": "markdown",
   "metadata": {},
   "source": [
    "# Setup"
   ]
  },
  {
   "cell_type": "code",
   "execution_count": 1,
   "metadata": {},
   "outputs": [
    {
     "name": "stderr",
     "output_type": "stream",
     "text": [
      "Using TensorFlow backend.\n"
     ]
    }
   ],
   "source": [
    "import nltk\n",
    "import os\n",
    "import time\n",
    "import numpy as np\n",
    "from pathlib import Path\n",
    "from dataset import Dataset\n",
    "from keras.preprocessing.sequence import pad_sequences\n",
    "from keras.layers import Embedding\n",
    "from keras.callbacks import TensorBoard, EarlyStopping\n",
    "from keras.models import load_model\n",
    "\n",
    "from sklearn.model_selection import train_test_split"
   ]
  },
  {
   "cell_type": "markdown",
   "metadata": {},
   "source": [
    "# Dataset Load"
   ]
  },
  {
   "cell_type": "code",
   "execution_count": 2,
   "metadata": {},
   "outputs": [
    {
     "name": "stdout",
     "output_type": "stream",
     "text": [
      "690 lines skipped (not labeled)\n",
      "0 lines skipped (not text)\n",
      "Text Length Max:  104\n",
      "Text Length Min:  1\n",
      "Text Length Mode: 7\n",
      "Text Length Mean: 9.00\n",
      "Text Length Std:  4.73\n",
      "S/W Text Ratio:   9.00\n"
     ]
    },
    {
     "data": {
      "image/png": "[encoded data removed]",
      "text/plain": [
       "<Figure size 1800x288 with 1 Axes>"
      ]
     },
     "metadata": {
      "needs_background": "light"
     },
     "output_type": "display_data"
    }
   ],
   "source": [
    "filename = 'datasets/amazon_co-ecommerce_sample.csv'\n",
    "text_field = 'name'\n",
    "\n",
    "dataset = Dataset(filename)\n",
    "dataset.load(text_field=text_field, label_field='category')\n",
    "dataset.text_info()"
   ]
  },
  {
   "cell_type": "markdown",
   "metadata": {},
   "source": [
    "# Preprocessing"
   ]
  },
  {
   "cell_type": "code",
   "execution_count": 3,
   "metadata": {},
   "outputs": [
    {
     "name": "stdout",
     "output_type": "stream",
     "text": [
      "Number of Tokens: 13363\n"
     ]
    }
   ],
   "source": [
    "tokenizer = dataset.tokenize()\n",
    "label_encoder = dataset.label_encode()"
   ]
  },
  {
   "cell_type": "code",
   "execution_count": 4,
   "metadata": {},
   "outputs": [],
   "source": [
    "data_train, data_test = train_test_split(dataset.data, test_size=0.1)\n",
    "    \n",
    "token_train = tokenizer.texts_to_sequences(data_train.text)\n",
    "text_train = pad_sequences(token_train, maxlen=dataset.max_text())\n",
    "label_train = label_encoder.transform(data_train.label)\n",
    "        \n",
    "token_test = tokenizer.texts_to_sequences(data_test.text)\n",
    "text_test = pad_sequences(token_test, maxlen=dataset.max_text())\n",
    "label_test = label_encoder.transform(data_test.label)"
   ]
  },
  {
   "cell_type": "markdown",
   "metadata": {},
   "source": [
    "# Load Model"
   ]
  },
  {
   "cell_type": "code",
   "execution_count": null,
   "metadata": {},
   "outputs": [],
   "source": [
    "PATH_MODELS = 'created_models/'\n",
    "MODEL = PATH_MODELS + 'lstm_jatana_name.h5'"
   ]
  },
  {
   "cell_type": "code",
   "execution_count": null,
   "metadata": {},
   "outputs": [
    {
     "name": "stderr",
     "output_type": "stream",
     "text": [
      "/anaconda2/envs/CnnEnv/lib/python3.6/site-packages/keras/engine/saving.py:292: UserWarning: No training configuration found in save file: the model was *not* compiled. Compile it manually.\n",
      "  warnings.warn('No training configuration found in save file: '\n"
     ]
    }
   ],
   "source": [
    "model = load_model(MODEL)"
   ]
  },
  {
   "cell_type": "markdown",
   "metadata": {},
   "source": [
    "# Train Model"
   ]
  },
  {
   "cell_type": "code",
   "execution_count": null,
   "metadata": {},
   "outputs": [],
   "source": [
    "tensorboard = TensorBoard(log_dir=\"logs/\" + model.name + '(' + time.asctime() + ')')"
   ]
  },
  {
   "cell_type": "code",
   "execution_count": null,
   "metadata": {},
   "outputs": [],
   "source": [
    "earlyStopping = EarlyStopping(monitor='val_acc', mode='auto',\n",
    "                              min_delta=0.01, patience=5)"
   ]
  },
  {
   "cell_type": "code",
   "execution_count": null,
   "metadata": {},
   "outputs": [],
   "source": [
    "model.compile(loss='sparse_categorical_crossentropy', optimizer='adam', metrics=['acc'])"
   ]
  },
  {
   "cell_type": "code",
   "execution_count": null,
   "metadata": {},
   "outputs": [
    {
     "name": "stdout",
     "output_type": "stream",
     "text": [
      "Train on 7541 samples, validate on 838 samples\n",
      "Epoch 1/60\n",
      "2624/7541 [=========>....................] - ETA: 42s - loss: 4.5059 - acc: 0.0865"
     ]
    }
   ],
   "source": [
    "hist = model.fit(text_train, label_train, \n",
    "                 batch_size=32, epochs=60, initial_epoch=0,\n",
    "                 verbose=1, callbacks=[earlyStopping, tensorboard],\n",
    "                 validation_split=0.1)"
   ]
  },
  {
   "cell_type": "markdown",
   "metadata": {},
   "source": [
    "# Evaluation"
   ]
  },
  {
   "cell_type": "markdown",
   "metadata": {},
   "source": [
    "### Metrics"
   ]
  },
  {
   "cell_type": "code",
   "execution_count": null,
   "metadata": {},
   "outputs": [],
   "source": [
    "ev_test  = model.evaluate(text_test, label_test, verbose=1)\n",
    "label_pred = np.argmax(model.predict(text_test),axis=1)\n",
    "label_pred = label_encoder.inverse_transform(label_pred)"
   ]
  },
  {
   "cell_type": "code",
   "execution_count": null,
   "metadata": {},
   "outputs": [],
   "source": [
    "acc_tr   = hist.history['acc'][-1]\n",
    "loss_tr  = hist.history['loss'][-1]\n",
    "acc_val  = hist.history['val_acc'][-1]\n",
    "loss_val = hist.history['val_loss'][-1]\n",
    "acc_te   = ev_test[1]\n",
    "loss_te  = ev_test[0]\n",
    "\n",
    "print('Train)      Acc:', round((100*acc_tr),2),  'Loss:', round((loss_tr),3))\n",
    "print('Validation) Acc:', round((100*acc_val),2), 'Loss:', round((loss_val),3))\n",
    "print('Test)       Acc:', round((100*acc_te),2),  'Loss:', round((loss_te),3))"
   ]
  },
  {
   "cell_type": "markdown",
   "metadata": {},
   "source": [
    "### Classification Report"
   ]
  },
  {
   "cell_type": "markdown",
   "metadata": {},
   "source": [
    "**Precision** is the percentage of samples correctly predicted to that category<br>\n",
    "P = tp / (tp + fp), tp = true positive, fp = false positive <br><br>\n",
    "\n",
    "**Recall** is the percentage of samples of that category predicted correctly<br>\n",
    "R    = tp / (tp + fn), tp = true positive, fn = false Negative <br><br>"
   ]
  },
  {
   "cell_type": "code",
   "execution_count": null,
   "metadata": {},
   "outputs": [],
   "source": [
    "class_report = metrics.classification_report(label_test, label_pred)\n",
    "split = class_report.split('\\n')\n",
    "for i, line in enumerate(split):\n",
    "    s = line.split()\n",
    "    if len(s) > 0:\n",
    "        support   = s[-1]\n",
    "        s.pop()\n",
    "        f1_score  = s[-1]\n",
    "        s.pop()\n",
    "        recall    = s[-1]\n",
    "        s.pop()\n",
    "        precision = s[-1]\n",
    "        s.pop()\n",
    "        if len(s) <= 0:\n",
    "            label = 'label'\n",
    "        else:\n",
    "            label = ' '.join(s)\n",
    "        split[i] = [label, precision, recall, f1_score, support]\n",
    "    else:\n",
    "        split[i] = ['']\n",
    "\n",
    "df = pd.DataFrame(split)\n",
    "df.columns = df.loc[0]\n",
    "df = df.drop([0])\n",
    "df = df.dropna()"
   ]
  },
  {
   "cell_type": "code",
   "execution_count": null,
   "metadata": {},
   "outputs": [],
   "source": [
    "print('Classification Report')\n",
    "df[-10:]"
   ]
  },
  {
   "cell_type": "markdown",
   "metadata": {},
   "source": [
    "# Save Trained Model"
   ]
  },
  {
   "cell_type": "code",
   "execution_count": null,
   "metadata": {},
   "outputs": [],
   "source": [
    "# Save Model\n",
    "model.save('trained_models/' + model.name + '.h5'))"
   ]
  }
 ],
 "metadata": {
  "kernelspec": {
   "display_name": "Python 3",
   "language": "python",
   "name": "python3"
  },
  "language_info": {
   "codemirror_mode": {
    "name": "ipython",
    "version": 3
   },
   "file_extension": ".py",
   "mimetype": "text/x-python",
   "name": "python",
   "nbconvert_exporter": "python",
   "pygments_lexer": "ipython3",
   "version": "3.6.8"
  }
 },
 "nbformat": 4,
 "nbformat_minor": 2
}
