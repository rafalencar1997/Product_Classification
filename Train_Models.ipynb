{
 "cells": [
  {
   "cell_type": "markdown",
   "metadata": {},
   "source": [
    "# Setup"
   ]
  },
  {
   "cell_type": "code",
   "execution_count": 1,
   "metadata": {},
   "outputs": [
    {
     "name": "stderr",
     "output_type": "stream",
     "text": [
      "Using TensorFlow backend.\n"
     ]
    }
   ],
   "source": [
    "import nltk\n",
    "import os\n",
    "import time\n",
    "import pandas as pd\n",
    "import numpy as np\n",
    "from pathlib import Path\n",
    "from dataset import Dataset\n",
    "from keras.preprocessing.sequence import pad_sequences\n",
    "from keras.layers import Embedding\n",
    "from keras.callbacks import TensorBoard, EarlyStopping\n",
    "from keras.models import load_model\n",
    "\n",
    "from sklearn import metrics\n",
    "from sklearn.model_selection import train_test_split"
   ]
  },
  {
   "cell_type": "markdown",
   "metadata": {},
   "source": [
    "# Dataset Load"
   ]
  },
  {
   "cell_type": "code",
   "execution_count": 2,
   "metadata": {},
   "outputs": [
    {
     "name": "stdout",
     "output_type": "stream",
     "text": [
      "690 lines skipped (not labeled)\n",
      "0 lines skipped (not text)\n",
      "Total filtered labels: 31\n",
      "Text Length Max:  67\n",
      "Text Length Min:  1\n",
      "Text Length Mode: 6\n",
      "Text Length Mean: 8.41\n",
      "Text Length Std:  4.18\n",
      "S/W Text Ratio:   8.41\n"
     ]
    },
    {
     "data": {
      "image/png": "[encoded data removed]",
      "text/plain": [
       "<Figure size 1800x288 with 1 Axes>"
      ]
     },
     "metadata": {
      "needs_background": "light"
     },
     "output_type": "display_data"
    }
   ],
   "source": [
    "filename = 'datasets/amazon_co-ecommerce_sample.csv'\n",
    "text_field ='name'\n",
    "\n",
    "dataset = Dataset(filename)\n",
    "dataset.load(text_field=text_field, label_field='category', root_label=True)\n",
    "dataset.filer_data()\n",
    "dataset.text_info()"
   ]
  },
  {
   "cell_type": "markdown",
   "metadata": {},
   "source": [
    "# Preprocessing"
   ]
  },
  {
   "cell_type": "code",
   "execution_count": 3,
   "metadata": {},
   "outputs": [
    {
     "name": "stdout",
     "output_type": "stream",
     "text": [
      "Number of Tokens: 13022\n"
     ]
    }
   ],
   "source": [
    "tokenizer = dataset.tokenize()\n",
    "label_encoder = dataset.label_encode()"
   ]
  },
  {
   "cell_type": "code",
   "execution_count": 4,
   "metadata": {},
   "outputs": [],
   "source": [
    "data_train, data_test = train_test_split(dataset.data, test_size=0.15)\n",
    "    \n",
    "token_train = tokenizer.texts_to_sequences(data_train.text)\n",
    "text_train = pad_sequences(token_train, maxlen=dataset.max_text())\n",
    "label_train = label_encoder.transform(data_train.label)\n",
    "        \n",
    "token_test = tokenizer.texts_to_sequences(data_test.text)\n",
    "text_test = pad_sequences(token_test, maxlen=dataset.max_text())\n",
    "label_test = label_encoder.transform(data_test.label)"
   ]
  },
  {
   "cell_type": "markdown",
   "metadata": {},
   "source": [
    "# Load Model"
   ]
  },
  {
   "cell_type": "code",
   "execution_count": 5,
   "metadata": {},
   "outputs": [],
   "source": [
    "PATH_MODELS = 'created_models/'\n",
    "MODEL = PATH_MODELS + 'sepcnn_100_name.h5'"
   ]
  },
  {
   "cell_type": "code",
   "execution_count": 6,
   "metadata": {},
   "outputs": [
    {
     "name": "stderr",
     "output_type": "stream",
     "text": [
      "/anaconda2/envs/CnnEnv/lib/python3.6/site-packages/keras/engine/saving.py:292: UserWarning: No training configuration found in save file: the model was *not* compiled. Compile it manually.\n",
      "  warnings.warn('No training configuration found in save file: '\n"
     ]
    }
   ],
   "source": [
    "model = load_model(MODEL)"
   ]
  },
  {
   "cell_type": "code",
   "execution_count": 7,
   "metadata": {},
   "outputs": [
    {
     "name": "stdout",
     "output_type": "stream",
     "text": [
      "_________________________________________________________________\n",
      "Layer (type)                 Output Shape              Param #   \n",
      "=================================================================\n",
      "input_1 (InputLayer)         (None, 67)                0         \n",
      "_________________________________________________________________\n",
      "embedding_1 (Embedding)      (None, 67, 100)           1302300   \n",
      "_________________________________________________________________\n",
      "separable_conv1d_1 (Separabl (None, 67, 64)            6764      \n",
      "_________________________________________________________________\n",
      "separable_conv1d_2 (Separabl (None, 67, 64)            4352      \n",
      "_________________________________________________________________\n",
      "global_average_pooling1d_1 ( (None, 64)                0         \n",
      "_________________________________________________________________\n",
      "dropout_1 (Dropout)          (None, 64)                0         \n",
      "_________________________________________________________________\n",
      "dense_1 (Dense)              (None, 31)                2015      \n",
      "=================================================================\n",
      "Total params: 1,315,431\n",
      "Trainable params: 1,315,431\n",
      "Non-trainable params: 0\n",
      "_________________________________________________________________\n"
     ]
    }
   ],
   "source": [
    "model.summary()"
   ]
  },
  {
   "cell_type": "markdown",
   "metadata": {},
   "source": [
    "# Train Model"
   ]
  },
  {
   "cell_type": "code",
   "execution_count": 8,
   "metadata": {},
   "outputs": [],
   "source": [
    "tensorboard = TensorBoard(log_dir=\"logs/\" + model.name + '(' + time.asctime() + ')')"
   ]
  },
  {
   "cell_type": "code",
   "execution_count": 9,
   "metadata": {},
   "outputs": [],
   "source": [
    "earlyStopping = EarlyStopping(monitor='val_acc', mode='auto',\n",
    "                              min_delta=0.01, patience=5, restore_best_weights=True)"
   ]
  },
  {
   "cell_type": "code",
   "execution_count": 10,
   "metadata": {},
   "outputs": [],
   "source": [
    "from keras.optimizers import RMSprop, Adam\n",
    "\n",
    "optimizer = 'adam'\n",
    "\n",
    "model.compile(loss='sparse_categorical_crossentropy', optimizer=optimizer, metrics=['acc'])"
   ]
  },
  {
   "cell_type": "code",
   "execution_count": 11,
   "metadata": {},
   "outputs": [
    {
     "name": "stdout",
     "output_type": "stream",
     "text": [
      "Train on 7111 samples, validate on 791 samples\n",
      "Epoch 17/60\n",
      "7111/7111 [==============================] - 5s 660us/step - loss: 3.0239 - acc: 0.1200 - val_loss: 2.4930 - val_acc: 0.1820\n",
      "Epoch 18/60\n",
      "7111/7111 [==============================] - 4s 610us/step - loss: 2.4901 - acc: 0.1403 - val_loss: 2.4337 - val_acc: 0.1820\n",
      "Epoch 19/60\n",
      "7111/7111 [==============================] - 4s 610us/step - loss: 2.2574 - acc: 0.1911 - val_loss: 2.0407 - val_acc: 0.2693\n",
      "Epoch 20/60\n",
      "7111/7111 [==============================] - 4s 603us/step - loss: 1.9749 - acc: 0.2537 - val_loss: 1.8378 - val_acc: 0.3843\n",
      "Epoch 21/60\n",
      "7111/7111 [==============================] - 5s 655us/step - loss: 1.5869 - acc: 0.4282 - val_loss: 1.4053 - val_acc: 0.5259\n",
      "Epoch 22/60\n",
      "7111/7111 [==============================] - 4s 627us/step - loss: 1.1548 - acc: 0.5950 - val_loss: 1.2088 - val_acc: 0.6637\n",
      "Epoch 23/60\n",
      "7111/7111 [==============================] - 5s 647us/step - loss: 0.8529 - acc: 0.7363 - val_loss: 1.0735 - val_acc: 0.7042\n",
      "Epoch 24/60\n",
      "7111/7111 [==============================] - 4s 630us/step - loss: 0.6199 - acc: 0.8334 - val_loss: 1.0373 - val_acc: 0.7269\n",
      "Epoch 25/60\n",
      "7111/7111 [==============================] - 4s 628us/step - loss: 0.4791 - acc: 0.8748 - val_loss: 1.0425 - val_acc: 0.7459\n",
      "Epoch 26/60\n",
      "7111/7111 [==============================] - 4s 622us/step - loss: 0.3913 - acc: 0.9035 - val_loss: 1.0884 - val_acc: 0.7509\n",
      "Epoch 27/60\n",
      "7111/7111 [==============================] - 4s 613us/step - loss: 0.3176 - acc: 0.9239 - val_loss: 1.1222 - val_acc: 0.7509\n",
      "Epoch 28/60\n",
      "7111/7111 [==============================] - 4s 629us/step - loss: 0.2650 - acc: 0.9371 - val_loss: 1.1499 - val_acc: 0.7547\n",
      "Epoch 29/60\n",
      "7111/7111 [==============================] - 4s 630us/step - loss: 0.2307 - acc: 0.9497 - val_loss: 1.1903 - val_acc: 0.7535\n",
      "Epoch 30/60\n",
      "7111/7111 [==============================] - 4s 612us/step - loss: 0.1969 - acc: 0.9542 - val_loss: 1.2539 - val_acc: 0.7547\n"
     ]
    }
   ],
   "source": [
    "hist = model.fit(text_train, label_train, \n",
    "                 batch_size=64, epochs=60, initial_epoch=16,\n",
    "                 verbose=1, callbacks=[earlyStopping, tensorboard],\n",
    "                 validation_split=0.1)"
   ]
  },
  {
   "cell_type": "markdown",
   "metadata": {},
   "source": [
    "# Evaluation"
   ]
  },
  {
   "cell_type": "markdown",
   "metadata": {},
   "source": [
    "### Metrics"
   ]
  },
  {
   "cell_type": "code",
   "execution_count": 12,
   "metadata": {},
   "outputs": [
    {
     "name": "stdout",
     "output_type": "stream",
     "text": [
      "1395/1395 [==============================] - 0s 99us/step\n"
     ]
    }
   ],
   "source": [
    "ev_test  = model.evaluate(text_test, label_test, verbose=1)\n",
    "label_pred = np.argmax(model.predict(text_test),axis=1)"
   ]
  },
  {
   "cell_type": "code",
   "execution_count": 13,
   "metadata": {},
   "outputs": [
    {
     "name": "stdout",
     "output_type": "stream",
     "text": [
      "Train)      Acc: 95.42 Loss: 0.197\n",
      "Validation) Acc: 75.47 Loss: 1.254\n",
      "Test)       Acc: 71.11 Loss: 1.224\n"
     ]
    }
   ],
   "source": [
    "acc_tr   = hist.history['acc'][-1]\n",
    "loss_tr  = hist.history['loss'][-1]\n",
    "acc_val  = hist.history['val_acc'][-1]\n",
    "loss_val = hist.history['val_loss'][-1]\n",
    "acc_te   = ev_test[1]\n",
    "loss_te  = ev_test[0]\n",
    "\n",
    "print('Train)      Acc:', round((100*acc_tr),2),  'Loss:', round((loss_tr),3))\n",
    "print('Validation) Acc:', round((100*acc_val),2), 'Loss:', round((loss_val),3))\n",
    "print('Test)       Acc:', round((100*acc_te),2),  'Loss:', round((loss_te),3))"
   ]
  },
  {
   "cell_type": "markdown",
   "metadata": {},
   "source": [
    "### Classification Report"
   ]
  },
  {
   "cell_type": "markdown",
   "metadata": {},
   "source": [
    "**Precision** is the percentage of samples correctly predicted to that category<br>\n",
    "P = tp / (tp + fp), tp = true positive, fp = false positive <br><br>\n",
    "\n",
    "**Recall** is the percentage of samples of that category predicted correctly<br>\n",
    "R    = tp / (tp + fn), tp = true positive, fn = false Negative <br><br>"
   ]
  },
  {
   "cell_type": "code",
   "execution_count": 14,
   "metadata": {},
   "outputs": [
    {
     "name": "stderr",
     "output_type": "stream",
     "text": [
      "/anaconda2/envs/CnnEnv/lib/python3.6/site-packages/sklearn/metrics/classification.py:1143: UndefinedMetricWarning: Precision and F-score are ill-defined and being set to 0.0 in labels with no predicted samples.\n",
      "  'precision', 'predicted', average, warn_for)\n"
     ]
    }
   ],
   "source": [
    "class_report = metrics.classification_report(label_test, label_pred)\n",
    "split = class_report.split('\\n')\n",
    "for i, line in enumerate(split):\n",
    "    s = line.split()\n",
    "    if len(s) > 0:\n",
    "        support   = s[-1]\n",
    "        s.pop()\n",
    "        f1_score  = s[-1]\n",
    "        s.pop()\n",
    "        recall    = s[-1]\n",
    "        s.pop()\n",
    "        precision = s[-1]\n",
    "        s.pop()\n",
    "        if len(s) <= 0:\n",
    "            label = 'label'\n",
    "        else:\n",
    "            label = ' '.join(s)\n",
    "        split[i] = [label, precision, recall, f1_score, support]\n",
    "    else:\n",
    "        split[i] = ['']\n",
    "\n",
    "df = pd.DataFrame(split)\n",
    "df.columns = df.loc[0]\n",
    "df = df.drop([0])\n",
    "df = df.dropna()"
   ]
  },
  {
   "cell_type": "code",
   "execution_count": 15,
   "metadata": {},
   "outputs": [
    {
     "name": "stdout",
     "output_type": "stream",
     "text": [
      "Classification Report\n"
     ]
    },
    {
     "data": {
      "text/html": [
       "<div>\n",
       "<style scoped>\n",
       "    .dataframe tbody tr th:only-of-type {\n",
       "        vertical-align: middle;\n",
       "    }\n",
       "\n",
       "    .dataframe tbody tr th {\n",
       "        vertical-align: top;\n",
       "    }\n",
       "\n",
       "    .dataframe thead th {\n",
       "        text-align: right;\n",
       "    }\n",
       "</style>\n",
       "<table border=\"1\" class=\"dataframe\">\n",
       "  <thead>\n",
       "    <tr style=\"text-align: right;\">\n",
       "      <th></th>\n",
       "      <th>label</th>\n",
       "      <th>precision</th>\n",
       "      <th>recall</th>\n",
       "      <th>f1-score</th>\n",
       "      <th>support</th>\n",
       "    </tr>\n",
       "  </thead>\n",
       "  <tbody>\n",
       "    <tr>\n",
       "      <th>17</th>\n",
       "      <td>19</td>\n",
       "      <td>0.00</td>\n",
       "      <td>0.00</td>\n",
       "      <td>0.00</td>\n",
       "      <td>2</td>\n",
       "    </tr>\n",
       "    <tr>\n",
       "      <th>18</th>\n",
       "      <td>21</td>\n",
       "      <td>0.00</td>\n",
       "      <td>0.00</td>\n",
       "      <td>0.00</td>\n",
       "      <td>1</td>\n",
       "    </tr>\n",
       "    <tr>\n",
       "      <th>19</th>\n",
       "      <td>22</td>\n",
       "      <td>0.90</td>\n",
       "      <td>0.84</td>\n",
       "      <td>0.87</td>\n",
       "      <td>97</td>\n",
       "    </tr>\n",
       "    <tr>\n",
       "      <th>20</th>\n",
       "      <td>23</td>\n",
       "      <td>0.00</td>\n",
       "      <td>0.00</td>\n",
       "      <td>0.00</td>\n",
       "      <td>2</td>\n",
       "    </tr>\n",
       "    <tr>\n",
       "      <th>21</th>\n",
       "      <td>24</td>\n",
       "      <td>0.00</td>\n",
       "      <td>0.00</td>\n",
       "      <td>0.00</td>\n",
       "      <td>8</td>\n",
       "    </tr>\n",
       "    <tr>\n",
       "      <th>22</th>\n",
       "      <td>25</td>\n",
       "      <td>0.89</td>\n",
       "      <td>0.77</td>\n",
       "      <td>0.82</td>\n",
       "      <td>43</td>\n",
       "    </tr>\n",
       "    <tr>\n",
       "      <th>23</th>\n",
       "      <td>26</td>\n",
       "      <td>0.52</td>\n",
       "      <td>0.53</td>\n",
       "      <td>0.53</td>\n",
       "      <td>73</td>\n",
       "    </tr>\n",
       "    <tr>\n",
       "      <th>25</th>\n",
       "      <td>micro avg</td>\n",
       "      <td>0.71</td>\n",
       "      <td>0.71</td>\n",
       "      <td>0.71</td>\n",
       "      <td>1395</td>\n",
       "    </tr>\n",
       "    <tr>\n",
       "      <th>26</th>\n",
       "      <td>macro avg</td>\n",
       "      <td>0.41</td>\n",
       "      <td>0.39</td>\n",
       "      <td>0.40</td>\n",
       "      <td>1395</td>\n",
       "    </tr>\n",
       "    <tr>\n",
       "      <th>27</th>\n",
       "      <td>weighted avg</td>\n",
       "      <td>0.71</td>\n",
       "      <td>0.71</td>\n",
       "      <td>0.71</td>\n",
       "      <td>1395</td>\n",
       "    </tr>\n",
       "  </tbody>\n",
       "</table>\n",
       "</div>"
      ],
      "text/plain": [
       "0          label precision recall f1-score support\n",
       "17            19      0.00   0.00     0.00       2\n",
       "18            21      0.00   0.00     0.00       1\n",
       "19            22      0.90   0.84     0.87      97\n",
       "20            23      0.00   0.00     0.00       2\n",
       "21            24      0.00   0.00     0.00       8\n",
       "22            25      0.89   0.77     0.82      43\n",
       "23            26      0.52   0.53     0.53      73\n",
       "25     micro avg      0.71   0.71     0.71    1395\n",
       "26     macro avg      0.41   0.39     0.40    1395\n",
       "27  weighted avg      0.71   0.71     0.71    1395"
      ]
     },
     "execution_count": 15,
     "metadata": {},
     "output_type": "execute_result"
    }
   ],
   "source": [
    "print('Classification Report')\n",
    "df[-10:]"
   ]
  },
  {
   "cell_type": "markdown",
   "metadata": {},
   "source": [
    "# Save Trained Model"
   ]
  },
  {
   "cell_type": "code",
   "execution_count": 16,
   "metadata": {},
   "outputs": [],
   "source": [
    "# Save Model\n",
    "model.save('trained_models/' + model.name + '.h5')"
   ]
  },
  {
   "cell_type": "code",
   "execution_count": null,
   "metadata": {},
   "outputs": [],
   "source": []
  }
 ],
 "metadata": {
  "kernelspec": {
   "display_name": "Python 3",
   "language": "python",
   "name": "python3"
  },
  "language_info": {
   "codemirror_mode": {
    "name": "ipython",
    "version": 3
   },
   "file_extension": ".py",
   "mimetype": "text/x-python",
   "name": "python",
   "nbconvert_exporter": "python",
   "pygments_lexer": "ipython3",
   "version": "3.6.8"
  }
 },
 "nbformat": 4,
 "nbformat_minor": 2
}
