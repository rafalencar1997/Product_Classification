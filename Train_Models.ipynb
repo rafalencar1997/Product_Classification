{
 "cells": [
  {
   "cell_type": "markdown",
   "metadata": {},
   "source": [
    "# Setup"
   ]
  },
  {
   "cell_type": "code",
   "execution_count": 1,
   "metadata": {},
   "outputs": [
    {
     "name": "stderr",
     "output_type": "stream",
     "text": [
      "Using TensorFlow backend.\n"
     ]
    }
   ],
   "source": [
    "import numpy as np\n",
    "from numpy import random\n",
    "import pickle\n",
    "import matplotlib\n",
    "import matplotlib.pyplot as plt\n",
    "import pandas as pd\n",
    "import time \n",
    "import tensorflow as tf\n",
    "import keras\n",
    "\n",
    "from gensim.models import Word2Vec\n",
    "\n",
    "%matplotlib inline\n",
    "matplotlib.style.use('ggplot')"
   ]
  },
  {
   "cell_type": "code",
   "execution_count": 2,
   "metadata": {},
   "outputs": [],
   "source": [
    "from sklearn import metrics\n",
    "from sklearn.model_selection import train_test_split"
   ]
  },
  {
   "cell_type": "code",
   "execution_count": 3,
   "metadata": {},
   "outputs": [],
   "source": [
    "from keras import losses, models, optimizers\n",
    "from keras.models import model_from_json\n",
    "from keras.preprocessing.text import Tokenizer\n",
    "from keras.preprocessing.sequence import pad_sequences\n",
    "from keras.callbacks import TensorBoard, EarlyStopping\n",
    "from keras.optimizers import SGD, Adam, Adamax, Adagrad, Adadelta, Nadam, RMSprop"
   ]
  },
  {
   "cell_type": "markdown",
   "metadata": {},
   "source": [
    "# Dataset Load"
   ]
  },
  {
   "cell_type": "code",
   "execution_count": 4,
   "metadata": {},
   "outputs": [],
   "source": [
    "PATH_GLOVE   = 'GloVe-1.2/'\n",
    "DATASET = 'amazon'\n",
    "\n",
    "PATH_DATASET = '/Users/rafalencar/Documents/Datasets/Products_Catalog/'"
   ]
  },
  {
   "cell_type": "code",
   "execution_count": 5,
   "metadata": {},
   "outputs": [
    {
     "name": "stdout",
     "output_type": "stream",
     "text": [
      "Dataset Shape:  (9310, 5)\n"
     ]
    }
   ],
   "source": [
    "dataset = pd.read_csv(PATH_DATASET + 'amazon_co-ecommerce_sample_Dataset.csv')\n",
    "dataset = dataset.replace(np.nan, '', regex=True)\n",
    "print('Dataset Shape: ', dataset.shape)"
   ]
  },
  {
   "cell_type": "code",
   "execution_count": 6,
   "metadata": {},
   "outputs": [
    {
     "name": "stdout",
     "output_type": "stream",
     "text": [
      "Total Labels :  255\n"
     ]
    }
   ],
   "source": [
    "CATEGORY = \"amazon_category_and_sub_category\"\n",
    "\n",
    "labels = dataset[CATEGORY].unique()\n",
    "LABELS = labels.shape[0]\n",
    "print(\"Total Labels : \", labels.shape[0])"
   ]
  },
  {
   "cell_type": "code",
   "execution_count": 7,
   "metadata": {},
   "outputs": [
    {
     "name": "stdout",
     "output_type": "stream",
     "text": [
      "Trainset Size:  8379\n",
      "Testset Size:  931\n"
     ]
    }
   ],
   "source": [
    "dataTrain, dataTest = train_test_split(dataset, test_size=0.1)\n",
    "y_train = dataTrain[CATEGORY]\n",
    "y_test  = dataTest[CATEGORY]\n",
    "print('Trainset Size: ', dataTrain.shape[0])\n",
    "print('Testset Size: ', dataTest.shape[0])"
   ]
  },
  {
   "cell_type": "code",
   "execution_count": 8,
   "metadata": {},
   "outputs": [
    {
     "name": "stdout",
     "output_type": "stream",
     "text": [
      "Trainset Labels :  243\n",
      "Testset Labels :  114\n"
     ]
    }
   ],
   "source": [
    "labelsTrain = dataTrain[CATEGORY].unique()\n",
    "print(\"Trainset Labels : \", labelsTrain.shape[0])\n",
    "labelsTest  = dataTest[CATEGORY].unique()\n",
    "print(\"Testset Labels : \", labelsTest.shape[0])"
   ]
  },
  {
   "cell_type": "markdown",
   "metadata": {},
   "source": [
    "# Embedding"
   ]
  },
  {
   "cell_type": "markdown",
   "metadata": {},
   "source": [
    "### Paths and Constants"
   ]
  },
  {
   "cell_type": "code",
   "execution_count": 9,
   "metadata": {},
   "outputs": [],
   "source": [
    "EMBEDDING_DIM = 100\n",
    "\n",
    "PATH_DATA_MODELS   = 'data_models/'\n",
    "\n",
    "FILE_WORD2VEC      = PATH_DATA_MODELS + DATASET +'_word2vec_s' + str(EMBEDDING_DIM) + '.model'\n",
    "FILE_TOKENIZER     = PATH_DATA_MODELS + DATASET +'_tokenizer.sav'\n",
    "FILE_LABEL_ENCODER = PATH_DATA_MODELS + DATASET +'_label_encoder.sav'\n",
    "\n",
    "FILE_GEN_GLOVE     = 'GloVe-1.2/' + DATASET + '_genglove_s' + str(EMBEDDING_DIM) + '.txt'"
   ]
  },
  {
   "cell_type": "code",
   "execution_count": 10,
   "metadata": {},
   "outputs": [],
   "source": [
    "X_used = 'product_name'\n",
    "    \n",
    "X_data     = dataset[X_used]\n",
    "dataTrainX = dataTrain[X_used]\n",
    "dataTestX  = dataTest[X_used]\n",
    "\n",
    "X_size = []\n",
    "for item in X_data:\n",
    "        split = item.split()\n",
    "        X_size.append(len(split))     \n",
    "MAX_SEQUENCE_LENGTH = int(1.5*max(X_size))"
   ]
  },
  {
   "cell_type": "markdown",
   "metadata": {},
   "source": [
    "### Tokenizer"
   ]
  },
  {
   "cell_type": "code",
   "execution_count": 11,
   "metadata": {},
   "outputs": [
    {
     "ename": "FileNotFoundError",
     "evalue": "[Errno 2] No such file or directory: 'data_models/amazon_tokenizer.sav'",
     "output_type": "error",
     "traceback": [
      "\u001b[0;31m---------------------------------------------------------------------------\u001b[0m",
      "\u001b[0;31mFileNotFoundError\u001b[0m                         Traceback (most recent call last)",
      "\u001b[0;32m<ipython-input-11-4d6704967755>\u001b[0m in \u001b[0;36m<module>\u001b[0;34m\u001b[0m\n\u001b[0;32m----> 1\u001b[0;31m \u001b[0mtokenizer\u001b[0m \u001b[0;34m=\u001b[0m \u001b[0mpickle\u001b[0m\u001b[0;34m.\u001b[0m\u001b[0mload\u001b[0m\u001b[0;34m(\u001b[0m\u001b[0mopen\u001b[0m\u001b[0;34m(\u001b[0m\u001b[0mFILE_TOKENIZER\u001b[0m\u001b[0;34m,\u001b[0m \u001b[0;34m'rb'\u001b[0m\u001b[0;34m)\u001b[0m\u001b[0;34m)\u001b[0m\u001b[0;34m\u001b[0m\u001b[0;34m\u001b[0m\u001b[0m\n\u001b[0m\u001b[1;32m      2\u001b[0m \u001b[0;34m\u001b[0m\u001b[0m\n\u001b[1;32m      3\u001b[0m \u001b[0mtoken_train\u001b[0m \u001b[0;34m=\u001b[0m \u001b[0mtokenizer\u001b[0m\u001b[0;34m.\u001b[0m\u001b[0mtexts_to_sequences\u001b[0m\u001b[0;34m(\u001b[0m\u001b[0mdataTrainX\u001b[0m\u001b[0;34m)\u001b[0m\u001b[0;34m\u001b[0m\u001b[0;34m\u001b[0m\u001b[0m\n\u001b[1;32m      4\u001b[0m \u001b[0mtoken_test\u001b[0m  \u001b[0;34m=\u001b[0m \u001b[0mtokenizer\u001b[0m\u001b[0;34m.\u001b[0m\u001b[0mtexts_to_sequences\u001b[0m\u001b[0;34m(\u001b[0m\u001b[0mdataTestX\u001b[0m\u001b[0;34m)\u001b[0m\u001b[0;34m\u001b[0m\u001b[0;34m\u001b[0m\u001b[0m\n\u001b[1;32m      5\u001b[0m \u001b[0;34m\u001b[0m\u001b[0m\n",
      "\u001b[0;31mFileNotFoundError\u001b[0m: [Errno 2] No such file or directory: 'data_models/amazon_tokenizer.sav'"
     ]
    }
   ],
   "source": [
    "tokenizer = pickle.load(open(FILE_TOKENIZER, 'rb'))\n",
    "\n",
    "token_train = tokenizer.texts_to_sequences(dataTrainX)\n",
    "token_test  = tokenizer.texts_to_sequences(dataTestX)\n",
    "\n",
    "pad_train = pad_sequences(token_train, maxlen=MAX_SEQUENCE_LENGTH)\n",
    "pad_test = pad_sequences(token_test, maxlen=MAX_SEQUENCE_LENGTH)\n",
    "\n",
    "word_index = tokenizer.word_index"
   ]
  },
  {
   "cell_type": "markdown",
   "metadata": {},
   "source": [
    "### Label Encoder"
   ]
  },
  {
   "cell_type": "code",
   "execution_count": null,
   "metadata": {},
   "outputs": [],
   "source": [
    "le = pickle.load(open(FILE_LABEL_ENCODER, 'rb'))\n",
    "y_encode_train = le.transform(y_train)\n",
    "y_encode_test  = le.transform(y_test)"
   ]
  },
  {
   "cell_type": "markdown",
   "metadata": {},
   "source": [
    "# Load Model"
   ]
  },
  {
   "cell_type": "code",
   "execution_count": null,
   "metadata": {},
   "outputs": [],
   "source": [
    "PATH_MODELS = 'not_trained_models/'\n",
    "\n",
    "MODEL = 'sepcnn__product_description_word2vec_s100'\n",
    "\n",
    "FILE_MODEL         = PATH_MODELS + DATASET + '_model_'+  MODEL  + '.json'\n",
    "FILE_MODEL_WEIGHTS = PATH_MODELS + DATASET + '_model_'+  MODEL  + '.h5'"
   ]
  },
  {
   "cell_type": "code",
   "execution_count": null,
   "metadata": {},
   "outputs": [],
   "source": [
    "json_file = open(FILE_MODEL, 'r')\n",
    "loaded_model_json = json_file.read()\n",
    "json_file.close()\n",
    "model = model_from_json(loaded_model_json)\n",
    "model.load_weights(FILE_MODEL_WEIGHTS)"
   ]
  },
  {
   "cell_type": "markdown",
   "metadata": {},
   "source": [
    "# Train Model"
   ]
  },
  {
   "cell_type": "code",
   "execution_count": null,
   "metadata": {},
   "outputs": [],
   "source": [
    "tensorboard = TensorBoard(log_dir=\"logs/\" + model.name + '(' + time.asctime() + ')')\n",
    "                          #histogram_freq=1)"
   ]
  },
  {
   "cell_type": "code",
   "execution_count": null,
   "metadata": {},
   "outputs": [],
   "source": [
    "earlyStopping = EarlyStopping(monitor='val_acc', mode='auto',\n",
    "                              min_delta=0.01, patience=5,\n",
    "                              restore_best_weights=True)"
   ]
  },
  {
   "cell_type": "code",
   "execution_count": null,
   "metadata": {},
   "outputs": [],
   "source": [
    "model.compile(loss='sparse_categorical_crossentropy', optimizer=RMSprop(lr=0.005, decay=0.0001), metrics=['acc'])"
   ]
  },
  {
   "cell_type": "code",
   "execution_count": null,
   "metadata": {},
   "outputs": [],
   "source": [
    "hist = model.fit(pad_train, y_encode_train, \n",
    "                 batch_size=128, epochs=60, initial_epoch=20,\n",
    "                 verbose=1, callbacks=[tensorboard],\n",
    "                 validation_split=0.1)"
   ]
  },
  {
   "cell_type": "markdown",
   "metadata": {},
   "source": [
    "# Evaluation"
   ]
  },
  {
   "cell_type": "markdown",
   "metadata": {},
   "source": [
    "### Metrics"
   ]
  },
  {
   "cell_type": "code",
   "execution_count": null,
   "metadata": {},
   "outputs": [],
   "source": [
    "ev_test  = model.evaluate(pad_test, y_encode_test, verbose=0)\n",
    "y_pred = np.argmax(model.predict(pad_test),axis=1)\n",
    "y_pred = le.inverse_transform(y_pred)"
   ]
  },
  {
   "cell_type": "code",
   "execution_count": null,
   "metadata": {},
   "outputs": [],
   "source": [
    "acc_tr   = round(100 * hist.history['acc'][-1], 1)\n",
    "loss_tr  = round(hist.history['loss'][-1], 3)\n",
    "acc_val  = round(100 * hist.history['val_acc'][-1], 1)\n",
    "loss_val = round(hist.history['val_loss'][-1], 3)\n",
    "acc_te   = round(100 * ev_test[1], 1)\n",
    "loss_te  = round(ev_test[0], 3)\n",
    "\n",
    "print('Acc:', acc_tr, '%')\n",
    "print('Loss:', loss_tr)\n",
    "print('Val Acc:', acc_val, '%')\n",
    "print('Val Loss:', loss_val)\n",
    "print('Test Acc:', acc_te, '%')\n",
    "print('Test Loss:', loss_te)"
   ]
  },
  {
   "cell_type": "markdown",
   "metadata": {},
   "source": [
    "### Classification Report"
   ]
  },
  {
   "cell_type": "markdown",
   "metadata": {},
   "source": [
    "**Precision** is the percentage of samples correctly predicted to that category<br>\n",
    "P = tp / (tp + fp), tp = true positive, fp = false positive <br><br>\n",
    "\n",
    "**Recall** is the percentage of samples of that category predicted correctly<br>\n",
    "R    = tp / (tp + fn), tp = true positive, fn = false Negative <br><br>"
   ]
  },
  {
   "cell_type": "code",
   "execution_count": null,
   "metadata": {},
   "outputs": [],
   "source": [
    "class_report = metrics.classification_report(y_test, y_pred)\n",
    "split = class_report.split('\\n') \n",
    "for i, line in enumerate(split):\n",
    "    x = line\n",
    "    x = x.replace('     ', '')   \n",
    "    x = x.replace('   ', ' ')\n",
    "    x = x.replace('  ', ' ')  \n",
    "    s = x.split()\n",
    "    if len(s) > 0:\n",
    "        support   = s[-1]\n",
    "        s.pop()\n",
    "        f1_score  = s[-1]\n",
    "        s.pop()\n",
    "        recall    = s[-1]\n",
    "        s.pop()\n",
    "        precision = s[-1]\n",
    "        s.pop()\n",
    "        if len(s) <= 0:\n",
    "            label = 'label'\n",
    "        else:\n",
    "            label = ' '.join(s)\n",
    "        split[i] = [label, precision, recall, f1_score, support]\n",
    "    else: \n",
    "        split[i] = ['']"
   ]
  },
  {
   "cell_type": "code",
   "execution_count": null,
   "metadata": {},
   "outputs": [],
   "source": [
    "df = pd.DataFrame(split)\n",
    "df.columns = df.loc[0]\n",
    "df = df.drop([0])\n",
    "df = df.dropna()\n",
    "\n",
    "print('Classification Report')\n",
    "df[-10:]"
   ]
  },
  {
   "cell_type": "markdown",
   "metadata": {},
   "source": [
    "### Confusion Matrix"
   ]
  },
  {
   "cell_type": "code",
   "execution_count": null,
   "metadata": {},
   "outputs": [],
   "source": [
    "cm = metrics.confusion_matrix(y_test, y_pred)\n",
    "\n",
    "plt.matshow(cm)\n",
    "plt.colorbar()\n",
    "plt.title('Confusion matrix')\n",
    "plt.ylabel('True label')\n",
    "plt.xlabel('Predicted label')\n",
    "plt.gcf().set_size_inches(8, 8)\n",
    "plt.show()"
   ]
  },
  {
   "cell_type": "markdown",
   "metadata": {},
   "source": [
    "# Save Trained Model"
   ]
  },
  {
   "cell_type": "code",
   "execution_count": null,
   "metadata": {},
   "outputs": [],
   "source": [
    "PATH_MODELS        = 'trained_models/'\n",
    "FILE_MODEL         = PATH_MODELS + DATASET + '_model_' + model.name + '(' + str(acc_tr) + '_' + str(acc_te) + ').json'\n",
    "FILE_MODEL_WEIGHTS = PATH_MODELS + DATASET + '_model_' + model.name + '(' + str(acc_tr) + '_' + str(acc_te) + ').h5'"
   ]
  },
  {
   "cell_type": "code",
   "execution_count": null,
   "metadata": {},
   "outputs": [],
   "source": [
    "# Save Model\n",
    "model_json = model.to_json()\n",
    "json_file  = open(FILE_MODEL, \"w\") \n",
    "json_file.write(model_json)\n",
    "json_file.close()\n",
    "model.save_weights(FILE_MODEL_WEIGHTS)"
   ]
  }
 ],
 "metadata": {
  "kernelspec": {
   "display_name": "Python 3",
   "language": "python",
   "name": "python3"
  },
  "language_info": {
   "codemirror_mode": {
    "name": "ipython",
    "version": 3
   },
   "file_extension": ".py",
   "mimetype": "text/x-python",
   "name": "python",
   "nbconvert_exporter": "python",
   "pygments_lexer": "ipython3",
   "version": "3.6.8"
  }
 },
 "nbformat": 4,
 "nbformat_minor": 2
}
